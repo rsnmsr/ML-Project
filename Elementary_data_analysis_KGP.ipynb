{
 "cells": [
  {
   "cell_type": "code",
   "execution_count": 1,
   "id": "healthy-belly",
   "metadata": {},
   "outputs": [],
   "source": [
    "import numpy as np\n",
    "import pandas as pd"
   ]
  },
  {
   "cell_type": "code",
   "execution_count": 2,
   "id": "diagnostic-reliance",
   "metadata": {},
   "outputs": [],
   "source": [
    "import statsmodels.api as sm\n",
    "import matplotlib.pyplot as plt"
   ]
  },
  {
   "cell_type": "code",
   "execution_count": 3,
   "id": "attended-branch",
   "metadata": {},
   "outputs": [],
   "source": [
    "df=pd.read_csv('./datasets/revenueprediction/train.csv',parse_dates=['placement date'])"
   ]
  },
  {
   "cell_type": "code",
   "execution_count": 4,
   "id": "tribal-bearing",
   "metadata": {},
   "outputs": [
    {
     "data": {
      "text/html": [
       "<div>\n",
       "<style scoped>\n",
       "    .dataframe tbody tr th:only-of-type {\n",
       "        vertical-align: middle;\n",
       "    }\n",
       "\n",
       "    .dataframe tbody tr th {\n",
       "        vertical-align: top;\n",
       "    }\n",
       "\n",
       "    .dataframe thead th {\n",
       "        text-align: right;\n",
       "    }\n",
       "</style>\n",
       "<table border=\"1\" class=\"dataframe\">\n",
       "  <thead>\n",
       "    <tr style=\"text-align: right;\">\n",
       "      <th></th>\n",
       "      <th>id</th>\n",
       "      <th>departure city</th>\n",
       "      <th>discount</th>\n",
       "      <th>price</th>\n",
       "      <th>no of items</th>\n",
       "      <th>location</th>\n",
       "      <th>class</th>\n",
       "      <th>segment</th>\n",
       "      <th>sub-class</th>\n",
       "      <th>delivery type</th>\n",
       "      <th>RID</th>\n",
       "      <th>profit</th>\n",
       "      <th>delivery date</th>\n",
       "      <th>address code</th>\n",
       "      <th>departure state</th>\n",
       "      <th>placement date</th>\n",
       "    </tr>\n",
       "  </thead>\n",
       "  <tbody>\n",
       "    <tr>\n",
       "      <th>0</th>\n",
       "      <td>1</td>\n",
       "      <td>Houston</td>\n",
       "      <td>0.2</td>\n",
       "      <td>16.448</td>\n",
       "      <td>2</td>\n",
       "      <td>Central</td>\n",
       "      <td>kariox</td>\n",
       "      <td>Consumer</td>\n",
       "      <td>phone</td>\n",
       "      <td>Standard Class</td>\n",
       "      <td>7981</td>\n",
       "      <td>5.5512</td>\n",
       "      <td>01-01-2018</td>\n",
       "      <td>77095</td>\n",
       "      <td>Texas</td>\n",
       "      <td>2018-01-01</td>\n",
       "    </tr>\n",
       "    <tr>\n",
       "      <th>1</th>\n",
       "      <td>2</td>\n",
       "      <td>Westland</td>\n",
       "      <td>0.0</td>\n",
       "      <td>29.700</td>\n",
       "      <td>5</td>\n",
       "      <td>Central</td>\n",
       "      <td>kariox</td>\n",
       "      <td>Consumer</td>\n",
       "      <td>headset</td>\n",
       "      <td>Standard Class</td>\n",
       "      <td>6334</td>\n",
       "      <td>13.3650</td>\n",
       "      <td>01-01-2018</td>\n",
       "      <td>48185</td>\n",
       "      <td>Michigan</td>\n",
       "      <td>2018-01-01</td>\n",
       "    </tr>\n",
       "    <tr>\n",
       "      <th>2</th>\n",
       "      <td>3</td>\n",
       "      <td>Westland</td>\n",
       "      <td>0.0</td>\n",
       "      <td>14.730</td>\n",
       "      <td>3</td>\n",
       "      <td>Central</td>\n",
       "      <td>qexty</td>\n",
       "      <td>Consumer</td>\n",
       "      <td>shorts</td>\n",
       "      <td>Standard Class</td>\n",
       "      <td>6333</td>\n",
       "      <td>4.8609</td>\n",
       "      <td>01-01-2018</td>\n",
       "      <td>48185</td>\n",
       "      <td>Michigan</td>\n",
       "      <td>2018-01-01</td>\n",
       "    </tr>\n",
       "    <tr>\n",
       "      <th>3</th>\n",
       "      <td>4</td>\n",
       "      <td>Westland</td>\n",
       "      <td>0.0</td>\n",
       "      <td>43.920</td>\n",
       "      <td>3</td>\n",
       "      <td>Central</td>\n",
       "      <td>kariox</td>\n",
       "      <td>Consumer</td>\n",
       "      <td>television</td>\n",
       "      <td>Standard Class</td>\n",
       "      <td>6332</td>\n",
       "      <td>12.7368</td>\n",
       "      <td>01-01-2018</td>\n",
       "      <td>48185</td>\n",
       "      <td>Michigan</td>\n",
       "      <td>2018-01-01</td>\n",
       "    </tr>\n",
       "    <tr>\n",
       "      <th>4</th>\n",
       "      <td>5</td>\n",
       "      <td>Westland</td>\n",
       "      <td>0.0</td>\n",
       "      <td>66.580</td>\n",
       "      <td>2</td>\n",
       "      <td>Central</td>\n",
       "      <td>kariox</td>\n",
       "      <td>Consumer</td>\n",
       "      <td>laptop</td>\n",
       "      <td>Standard Class</td>\n",
       "      <td>6331</td>\n",
       "      <td>15.9792</td>\n",
       "      <td>01-01-2018</td>\n",
       "      <td>48185</td>\n",
       "      <td>Michigan</td>\n",
       "      <td>2018-01-01</td>\n",
       "    </tr>\n",
       "  </tbody>\n",
       "</table>\n",
       "</div>"
      ],
      "text/plain": [
       "   id departure city  discount   price  no of items location   class  \\\n",
       "0   1        Houston       0.2  16.448            2  Central  kariox   \n",
       "1   2       Westland       0.0  29.700            5  Central  kariox   \n",
       "2   3       Westland       0.0  14.730            3  Central   qexty   \n",
       "3   4       Westland       0.0  43.920            3  Central  kariox   \n",
       "4   5       Westland       0.0  66.580            2  Central  kariox   \n",
       "\n",
       "    segment   sub-class   delivery type   RID   profit delivery date  \\\n",
       "0  Consumer       phone  Standard Class  7981   5.5512    01-01-2018   \n",
       "1  Consumer     headset  Standard Class  6334  13.3650    01-01-2018   \n",
       "2  Consumer      shorts  Standard Class  6333   4.8609    01-01-2018   \n",
       "3  Consumer  television  Standard Class  6332  12.7368    01-01-2018   \n",
       "4  Consumer      laptop  Standard Class  6331  15.9792    01-01-2018   \n",
       "\n",
       "   address code departure state placement date  \n",
       "0         77095           Texas     2018-01-01  \n",
       "1         48185        Michigan     2018-01-01  \n",
       "2         48185        Michigan     2018-01-01  \n",
       "3         48185        Michigan     2018-01-01  \n",
       "4         48185        Michigan     2018-01-01  "
      ]
     },
     "execution_count": 4,
     "metadata": {},
     "output_type": "execute_result"
    }
   ],
   "source": [
    "df.head()"
   ]
  },
  {
   "cell_type": "code",
   "execution_count": 5,
   "id": "worst-brooks",
   "metadata": {},
   "outputs": [
    {
     "name": "stdout",
     "output_type": "stream",
     "text": [
      "<class 'pandas.core.frame.DataFrame'>\n",
      "RangeIndex: 6700 entries, 0 to 6699\n",
      "Data columns (total 16 columns):\n",
      " #   Column           Non-Null Count  Dtype         \n",
      "---  ------           --------------  -----         \n",
      " 0   id               6700 non-null   int64         \n",
      " 1   departure city   6700 non-null   object        \n",
      " 2   discount         6700 non-null   float64       \n",
      " 3   price            6700 non-null   float64       \n",
      " 4   no of items      6700 non-null   int64         \n",
      " 5   location         6700 non-null   object        \n",
      " 6   class            6700 non-null   object        \n",
      " 7   segment          6700 non-null   object        \n",
      " 8   sub-class        6700 non-null   object        \n",
      " 9   delivery type    6699 non-null   object        \n",
      " 10  RID              6700 non-null   int64         \n",
      " 11  profit           6700 non-null   float64       \n",
      " 12  delivery date    6700 non-null   object        \n",
      " 13  address code     6700 non-null   int64         \n",
      " 14  departure state  6700 non-null   object        \n",
      " 15  placement date   6700 non-null   datetime64[ns]\n",
      "dtypes: datetime64[ns](1), float64(3), int64(4), object(8)\n",
      "memory usage: 837.6+ KB\n"
     ]
    }
   ],
   "source": [
    "df.info()\n"
   ]
  },
  {
   "cell_type": "code",
   "execution_count": 6,
   "id": "tamil-responsibility",
   "metadata": {
    "scrolled": true
   },
   "outputs": [
    {
     "data": {
      "text/html": [
       "<div>\n",
       "<style scoped>\n",
       "    .dataframe tbody tr th:only-of-type {\n",
       "        vertical-align: middle;\n",
       "    }\n",
       "\n",
       "    .dataframe tbody tr th {\n",
       "        vertical-align: top;\n",
       "    }\n",
       "\n",
       "    .dataframe thead th {\n",
       "        text-align: right;\n",
       "    }\n",
       "</style>\n",
       "<table border=\"1\" class=\"dataframe\">\n",
       "  <thead>\n",
       "    <tr style=\"text-align: right;\">\n",
       "      <th></th>\n",
       "      <th>id</th>\n",
       "      <th>discount</th>\n",
       "      <th>price</th>\n",
       "      <th>no of items</th>\n",
       "      <th>RID</th>\n",
       "      <th>profit</th>\n",
       "      <th>address code</th>\n",
       "    </tr>\n",
       "  </thead>\n",
       "  <tbody>\n",
       "    <tr>\n",
       "      <th>count</th>\n",
       "      <td>6700.000000</td>\n",
       "      <td>6700.000000</td>\n",
       "      <td>6700.000000</td>\n",
       "      <td>6700.000000</td>\n",
       "      <td>6700.000000</td>\n",
       "      <td>6700.000000</td>\n",
       "      <td>6700.000000</td>\n",
       "    </tr>\n",
       "    <tr>\n",
       "      <th>mean</th>\n",
       "      <td>3350.500000</td>\n",
       "      <td>0.155876</td>\n",
       "      <td>234.424275</td>\n",
       "      <td>3.798507</td>\n",
       "      <td>4954.381791</td>\n",
       "      <td>29.121046</td>\n",
       "      <td>54719.073284</td>\n",
       "    </tr>\n",
       "    <tr>\n",
       "      <th>std</th>\n",
       "      <td>1934.267734</td>\n",
       "      <td>0.205922</td>\n",
       "      <td>641.440815</td>\n",
       "      <td>2.225327</td>\n",
       "      <td>2921.304952</td>\n",
       "      <td>230.712951</td>\n",
       "      <td>32092.421012</td>\n",
       "    </tr>\n",
       "    <tr>\n",
       "      <th>min</th>\n",
       "      <td>1.000000</td>\n",
       "      <td>0.000000</td>\n",
       "      <td>0.836000</td>\n",
       "      <td>1.000000</td>\n",
       "      <td>1.000000</td>\n",
       "      <td>-6599.978000</td>\n",
       "      <td>1040.000000</td>\n",
       "    </tr>\n",
       "    <tr>\n",
       "      <th>25%</th>\n",
       "      <td>1675.750000</td>\n",
       "      <td>0.000000</td>\n",
       "      <td>17.340000</td>\n",
       "      <td>2.000000</td>\n",
       "      <td>2389.750000</td>\n",
       "      <td>1.713750</td>\n",
       "      <td>22204.000000</td>\n",
       "    </tr>\n",
       "    <tr>\n",
       "      <th>50%</th>\n",
       "      <td>3350.500000</td>\n",
       "      <td>0.200000</td>\n",
       "      <td>54.960000</td>\n",
       "      <td>3.000000</td>\n",
       "      <td>4941.500000</td>\n",
       "      <td>8.803200</td>\n",
       "      <td>55113.000000</td>\n",
       "    </tr>\n",
       "    <tr>\n",
       "      <th>75%</th>\n",
       "      <td>5025.250000</td>\n",
       "      <td>0.200000</td>\n",
       "      <td>212.940000</td>\n",
       "      <td>5.000000</td>\n",
       "      <td>7507.250000</td>\n",
       "      <td>30.023400</td>\n",
       "      <td>90004.000000</td>\n",
       "    </tr>\n",
       "    <tr>\n",
       "      <th>max</th>\n",
       "      <td>6700.000000</td>\n",
       "      <td>0.800000</td>\n",
       "      <td>22638.480000</td>\n",
       "      <td>14.000000</td>\n",
       "      <td>9990.000000</td>\n",
       "      <td>8399.976000</td>\n",
       "      <td>99301.000000</td>\n",
       "    </tr>\n",
       "  </tbody>\n",
       "</table>\n",
       "</div>"
      ],
      "text/plain": [
       "                id     discount         price  no of items          RID  \\\n",
       "count  6700.000000  6700.000000   6700.000000  6700.000000  6700.000000   \n",
       "mean   3350.500000     0.155876    234.424275     3.798507  4954.381791   \n",
       "std    1934.267734     0.205922    641.440815     2.225327  2921.304952   \n",
       "min       1.000000     0.000000      0.836000     1.000000     1.000000   \n",
       "25%    1675.750000     0.000000     17.340000     2.000000  2389.750000   \n",
       "50%    3350.500000     0.200000     54.960000     3.000000  4941.500000   \n",
       "75%    5025.250000     0.200000    212.940000     5.000000  7507.250000   \n",
       "max    6700.000000     0.800000  22638.480000    14.000000  9990.000000   \n",
       "\n",
       "            profit  address code  \n",
       "count  6700.000000   6700.000000  \n",
       "mean     29.121046  54719.073284  \n",
       "std     230.712951  32092.421012  \n",
       "min   -6599.978000   1040.000000  \n",
       "25%       1.713750  22204.000000  \n",
       "50%       8.803200  55113.000000  \n",
       "75%      30.023400  90004.000000  \n",
       "max    8399.976000  99301.000000  "
      ]
     },
     "execution_count": 6,
     "metadata": {},
     "output_type": "execute_result"
    }
   ],
   "source": [
    "df.describe()"
   ]
  },
  {
   "cell_type": "code",
   "execution_count": 7,
   "id": "lyric-legend",
   "metadata": {
    "scrolled": true
   },
   "outputs": [
    {
     "data": {
      "text/html": [
       "<div>\n",
       "<style scoped>\n",
       "    .dataframe tbody tr th:only-of-type {\n",
       "        vertical-align: middle;\n",
       "    }\n",
       "\n",
       "    .dataframe tbody tr th {\n",
       "        vertical-align: top;\n",
       "    }\n",
       "\n",
       "    .dataframe thead th {\n",
       "        text-align: right;\n",
       "    }\n",
       "</style>\n",
       "<table border=\"1\" class=\"dataframe\">\n",
       "  <thead>\n",
       "    <tr style=\"text-align: right;\">\n",
       "      <th></th>\n",
       "      <th>id</th>\n",
       "      <th>departure city</th>\n",
       "      <th>discount</th>\n",
       "      <th>price</th>\n",
       "      <th>no of items</th>\n",
       "      <th>location</th>\n",
       "      <th>segment</th>\n",
       "      <th>sub-class</th>\n",
       "      <th>delivery type</th>\n",
       "      <th>RID</th>\n",
       "      <th>profit</th>\n",
       "      <th>delivery date</th>\n",
       "      <th>address code</th>\n",
       "      <th>departure state</th>\n",
       "      <th>placement date</th>\n",
       "    </tr>\n",
       "    <tr>\n",
       "      <th>class</th>\n",
       "      <th></th>\n",
       "      <th></th>\n",
       "      <th></th>\n",
       "      <th></th>\n",
       "      <th></th>\n",
       "      <th></th>\n",
       "      <th></th>\n",
       "      <th></th>\n",
       "      <th></th>\n",
       "      <th></th>\n",
       "      <th></th>\n",
       "      <th></th>\n",
       "      <th></th>\n",
       "      <th></th>\n",
       "      <th></th>\n",
       "    </tr>\n",
       "  </thead>\n",
       "  <tbody>\n",
       "    <tr>\n",
       "      <th>fynota</th>\n",
       "      <td>1229</td>\n",
       "      <td>274</td>\n",
       "      <td>7</td>\n",
       "      <td>931</td>\n",
       "      <td>14</td>\n",
       "      <td>4</td>\n",
       "      <td>3</td>\n",
       "      <td>4</td>\n",
       "      <td>4</td>\n",
       "      <td>1229</td>\n",
       "      <td>1058</td>\n",
       "      <td>37</td>\n",
       "      <td>337</td>\n",
       "      <td>46</td>\n",
       "      <td>37</td>\n",
       "    </tr>\n",
       "    <tr>\n",
       "      <th>kariox</th>\n",
       "      <td>4034</td>\n",
       "      <td>417</td>\n",
       "      <td>5</td>\n",
       "      <td>2565</td>\n",
       "      <td>14</td>\n",
       "      <td>4</td>\n",
       "      <td>3</td>\n",
       "      <td>9</td>\n",
       "      <td>4</td>\n",
       "      <td>4034</td>\n",
       "      <td>3039</td>\n",
       "      <td>37</td>\n",
       "      <td>504</td>\n",
       "      <td>46</td>\n",
       "      <td>37</td>\n",
       "    </tr>\n",
       "    <tr>\n",
       "      <th>qexty</th>\n",
       "      <td>1437</td>\n",
       "      <td>317</td>\n",
       "      <td>11</td>\n",
       "      <td>1201</td>\n",
       "      <td>14</td>\n",
       "      <td>4</td>\n",
       "      <td>3</td>\n",
       "      <td>4</td>\n",
       "      <td>4</td>\n",
       "      <td>1437</td>\n",
       "      <td>1259</td>\n",
       "      <td>37</td>\n",
       "      <td>390</td>\n",
       "      <td>47</td>\n",
       "      <td>37</td>\n",
       "    </tr>\n",
       "  </tbody>\n",
       "</table>\n",
       "</div>"
      ],
      "text/plain": [
       "          id  departure city  discount  price  no of items  location  segment  \\\n",
       "class                                                                           \n",
       "fynota  1229             274         7    931           14         4        3   \n",
       "kariox  4034             417         5   2565           14         4        3   \n",
       "qexty   1437             317        11   1201           14         4        3   \n",
       "\n",
       "        sub-class  delivery type   RID  profit  delivery date  address code  \\\n",
       "class                                                                         \n",
       "fynota          4              4  1229    1058             37           337   \n",
       "kariox          9              4  4034    3039             37           504   \n",
       "qexty           4              4  1437    1259             37           390   \n",
       "\n",
       "        departure state  placement date  \n",
       "class                                    \n",
       "fynota               46              37  \n",
       "kariox               46              37  \n",
       "qexty                47              37  "
      ]
     },
     "execution_count": 7,
     "metadata": {},
     "output_type": "execute_result"
    }
   ],
   "source": [
    "df.groupby('class').nunique()"
   ]
  },
  {
   "cell_type": "code",
   "execution_count": 8,
   "id": "velvet-alexander",
   "metadata": {},
   "outputs": [
    {
     "data": {
      "text/plain": [
       "3"
      ]
     },
     "execution_count": 8,
     "metadata": {},
     "output_type": "execute_result"
    }
   ],
   "source": [
    "df['class'].nunique()\n"
   ]
  },
  {
   "cell_type": "code",
   "execution_count": 9,
   "id": "frank-cleaning",
   "metadata": {
    "scrolled": true
   },
   "outputs": [
    {
     "data": {
      "text/plain": [
       "headset       1025\n",
       "phone          913\n",
       "laptop         559\n",
       "television     513\n",
       "battery        303\n",
       "tablet         250\n",
       "watch          185\n",
       "lighting       155\n",
       "charger        131\n",
       "Name: sub-class, dtype: int64"
      ]
     },
     "execution_count": 9,
     "metadata": {},
     "output_type": "execute_result"
    }
   ],
   "source": [
    "df[df['class']==\"kariox\"]['sub-class'].value_counts()\n"
   ]
  },
  {
   "cell_type": "code",
   "execution_count": 10,
   "id": "mediterranean-delta",
   "metadata": {},
   "outputs": [],
   "source": [
    "df1=df.loc[(df['class']==\"kariox\")&(df['sub-class']==\"phone\")]"
   ]
  },
  {
   "cell_type": "code",
   "execution_count": 11,
   "id": "bound-qatar",
   "metadata": {},
   "outputs": [],
   "source": [
    "df1=df1.loc[:,('profit','placement date')];"
   ]
  },
  {
   "cell_type": "code",
   "execution_count": 12,
   "id": "blind-meter",
   "metadata": {},
   "outputs": [],
   "source": [
    "df1['placement date']=pd.to_datetime(df['placement date'])"
   ]
  },
  {
   "cell_type": "code",
   "execution_count": 13,
   "id": "featured-planning",
   "metadata": {},
   "outputs": [],
   "source": [
    "df1 = df1.groupby('placement date')['profit'].sum().reset_index()"
   ]
  },
  {
   "cell_type": "code",
   "execution_count": 14,
   "id": "developed-competition",
   "metadata": {},
   "outputs": [
    {
     "data": {
      "text/plain": [
       "DatetimeIndex(['2018-01-01', '2018-01-02', '2018-01-03', '2018-01-04',\n",
       "               '2018-01-05', '2018-01-06', '2018-01-07', '2018-01-08',\n",
       "               '2018-01-09', '2018-01-10', '2018-01-11', '2018-01-12',\n",
       "               '2019-01-01', '2019-01-02', '2019-01-03', '2019-01-04',\n",
       "               '2019-01-05', '2019-01-06', '2019-01-07', '2019-01-08',\n",
       "               '2019-01-09', '2019-01-10', '2019-01-11', '2019-01-12',\n",
       "               '2020-01-01', '2020-01-02', '2020-01-03', '2020-01-04',\n",
       "               '2020-01-05', '2020-01-06', '2020-01-07', '2020-01-08',\n",
       "               '2020-01-09', '2020-01-10', '2020-01-11', '2020-01-12',\n",
       "               '2021-01-01'],\n",
       "              dtype='datetime64[ns]', name='placement date', freq=None)"
      ]
     },
     "execution_count": 14,
     "metadata": {},
     "output_type": "execute_result"
    }
   ],
   "source": [
    "df1 = df1.set_index('placement date')\n",
    "df1.index"
   ]
  },
  {
   "cell_type": "code",
   "execution_count": 15,
   "id": "third-english",
   "metadata": {},
   "outputs": [
    {
     "data": {
      "image/png": "[encoded data removed]",
      "text/plain": [
       "<Figure size 1080x432 with 1 Axes>"
      ]
     },
     "metadata": {
      "needs_background": "light"
     },
     "output_type": "display_data"
    }
   ],
   "source": [
    "df1.plot(figsize=(15, 6))\n",
    "plt.show()"
   ]
  },
  {
   "cell_type": "code",
   "execution_count": 16,
   "id": "backed-woman",
   "metadata": {},
   "outputs": [],
   "source": [
    "df1.sort_index(inplace=True)"
   ]
  },
  {
   "cell_type": "code",
   "execution_count": 17,
   "id": "executive-victory",
   "metadata": {},
   "outputs": [
    {
     "ename": "ValueError",
     "evalue": "You must specify a period or x must be a pandas object with a DatetimeIndex with a freq not set to None",
     "output_type": "error",
     "traceback": [
      "\u001b[1;31m---------------------------------------------------------------------------\u001b[0m",
      "\u001b[1;31mValueError\u001b[0m                                Traceback (most recent call last)",
      "\u001b[1;32m<ipython-input-17-89a6a501cd0e>\u001b[0m in \u001b[0;36m<module>\u001b[1;34m\u001b[0m\n\u001b[0;32m      1\u001b[0m \u001b[1;32mfrom\u001b[0m \u001b[0mpylab\u001b[0m \u001b[1;32mimport\u001b[0m \u001b[0mrcParams\u001b[0m\u001b[1;33m\u001b[0m\u001b[1;33m\u001b[0m\u001b[0m\n\u001b[0;32m      2\u001b[0m \u001b[0mrcParams\u001b[0m\u001b[1;33m[\u001b[0m\u001b[1;34m'figure.figsize'\u001b[0m\u001b[1;33m]\u001b[0m \u001b[1;33m=\u001b[0m \u001b[1;36m18\u001b[0m\u001b[1;33m,\u001b[0m \u001b[1;36m8\u001b[0m\u001b[1;33m\u001b[0m\u001b[1;33m\u001b[0m\u001b[0m\n\u001b[1;32m----> 3\u001b[1;33m \u001b[0mdecomposition\u001b[0m \u001b[1;33m=\u001b[0m \u001b[0msm\u001b[0m\u001b[1;33m.\u001b[0m\u001b[0mtsa\u001b[0m\u001b[1;33m.\u001b[0m\u001b[0mseasonal_decompose\u001b[0m\u001b[1;33m(\u001b[0m\u001b[0mdf1\u001b[0m\u001b[1;33m,\u001b[0m \u001b[0mmodel\u001b[0m\u001b[1;33m=\u001b[0m\u001b[1;34m'additive'\u001b[0m\u001b[1;33m)\u001b[0m\u001b[1;33m\u001b[0m\u001b[1;33m\u001b[0m\u001b[0m\n\u001b[0m\u001b[0;32m      4\u001b[0m \u001b[0mfig\u001b[0m \u001b[1;33m=\u001b[0m \u001b[0mdecomposition\u001b[0m\u001b[1;33m.\u001b[0m\u001b[0mplot\u001b[0m\u001b[1;33m(\u001b[0m\u001b[1;33m)\u001b[0m\u001b[1;33m\u001b[0m\u001b[1;33m\u001b[0m\u001b[0m\n\u001b[0;32m      5\u001b[0m \u001b[0mplt\u001b[0m\u001b[1;33m.\u001b[0m\u001b[0mshow\u001b[0m\u001b[1;33m(\u001b[0m\u001b[1;33m)\u001b[0m\u001b[1;33m\u001b[0m\u001b[1;33m\u001b[0m\u001b[0m\n",
      "\u001b[1;32me:\\projects\\ml_projects\\myenv1\\lib\\site-packages\\pandas\\util\\_decorators.py\u001b[0m in \u001b[0;36mwrapper\u001b[1;34m(*args, **kwargs)\u001b[0m\n\u001b[0;32m    197\u001b[0m                 \u001b[1;32melse\u001b[0m\u001b[1;33m:\u001b[0m\u001b[1;33m\u001b[0m\u001b[1;33m\u001b[0m\u001b[0m\n\u001b[0;32m    198\u001b[0m                     \u001b[0mkwargs\u001b[0m\u001b[1;33m[\u001b[0m\u001b[0mnew_arg_name\u001b[0m\u001b[1;33m]\u001b[0m \u001b[1;33m=\u001b[0m \u001b[0mnew_arg_value\u001b[0m\u001b[1;33m\u001b[0m\u001b[1;33m\u001b[0m\u001b[0m\n\u001b[1;32m--> 199\u001b[1;33m             \u001b[1;32mreturn\u001b[0m \u001b[0mfunc\u001b[0m\u001b[1;33m(\u001b[0m\u001b[1;33m*\u001b[0m\u001b[0margs\u001b[0m\u001b[1;33m,\u001b[0m \u001b[1;33m**\u001b[0m\u001b[0mkwargs\u001b[0m\u001b[1;33m)\u001b[0m\u001b[1;33m\u001b[0m\u001b[1;33m\u001b[0m\u001b[0m\n\u001b[0m\u001b[0;32m    200\u001b[0m \u001b[1;33m\u001b[0m\u001b[0m\n\u001b[0;32m    201\u001b[0m         \u001b[1;32mreturn\u001b[0m \u001b[0mcast\u001b[0m\u001b[1;33m(\u001b[0m\u001b[0mF\u001b[0m\u001b[1;33m,\u001b[0m \u001b[0mwrapper\u001b[0m\u001b[1;33m)\u001b[0m\u001b[1;33m\u001b[0m\u001b[1;33m\u001b[0m\u001b[0m\n",
      "\u001b[1;32me:\\projects\\ml_projects\\myenv1\\lib\\site-packages\\statsmodels\\tsa\\seasonal.py\u001b[0m in \u001b[0;36mseasonal_decompose\u001b[1;34m(x, model, filt, period, two_sided, extrapolate_trend)\u001b[0m\n\u001b[0;32m    141\u001b[0m             \u001b[0mperiod\u001b[0m \u001b[1;33m=\u001b[0m \u001b[0mpfreq\u001b[0m\u001b[1;33m\u001b[0m\u001b[1;33m\u001b[0m\u001b[0m\n\u001b[0;32m    142\u001b[0m         \u001b[1;32melse\u001b[0m\u001b[1;33m:\u001b[0m\u001b[1;33m\u001b[0m\u001b[1;33m\u001b[0m\u001b[0m\n\u001b[1;32m--> 143\u001b[1;33m             raise ValueError(\"You must specify a period or x must be a \"\n\u001b[0m\u001b[0;32m    144\u001b[0m                              \u001b[1;34m\"pandas object with a DatetimeIndex with \"\u001b[0m\u001b[1;33m\u001b[0m\u001b[1;33m\u001b[0m\u001b[0m\n\u001b[0;32m    145\u001b[0m                              \"a freq not set to None\")\n",
      "\u001b[1;31mValueError\u001b[0m: You must specify a period or x must be a pandas object with a DatetimeIndex with a freq not set to None"
     ]
    }
   ],
   "source": [
    "from pylab import rcParams\n",
    "rcParams['figure.figsize'] = 18, 8\n",
    "decomposition = sm.tsa.seasonal_decompose(df1, model='additive')\n",
    "fig = decomposition.plot()\n",
    "plt.show()"
   ]
  },
  {
   "cell_type": "code",
   "execution_count": null,
   "id": "disturbed-mainland",
   "metadata": {},
   "outputs": [],
   "source": [
    "df1"
   ]
  },
  {
   "cell_type": "code",
   "execution_count": null,
   "id": "presidential-cabin",
   "metadata": {},
   "outputs": [],
   "source": []
  },
  {
   "cell_type": "code",
   "execution_count": null,
   "id": "engaged-liberia",
   "metadata": {},
   "outputs": [],
   "source": []
  }
 ],
 "metadata": {
  "kernelspec": {
   "display_name": "Python 3",
   "language": "python",
   "name": "python3"
  },
  "language_info": {
   "codemirror_mode": {
    "name": "ipython",
    "version": 3
   },
   "file_extension": ".py",
   "mimetype": "text/x-python",
   "name": "python",
   "nbconvert_exporter": "python",
   "pygments_lexer": "ipython3",
   "version": "3.7.3"
  }
 },
 "nbformat": 4,
 "nbformat_minor": 5
}
